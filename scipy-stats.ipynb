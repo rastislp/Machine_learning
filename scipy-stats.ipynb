{
 "cells": [
  {
   "cell_type": "markdown",
   "metadata": {},
   "source": [
    "# Scikit-stats project for Machine learning"
   ]
  },
  {
   "cell_type": "markdown",
   "metadata": {},
   "source": [
    "![logo](https://i2.wp.com/softwareengineeringdaily.com/wp-content/uploads/2016/09/scikit-learn-logo.png?w=566&ssl=1)"
   ]
  },
  {
   "cell_type": "markdown",
   "metadata": {},
   "source": [
    "*Rastislav Petras g00252861@gmit.ie*\n"
   ]
  },
  {
   "cell_type": "markdown",
   "metadata": {},
   "source": [
    "[link to scikit-learn Tutorials](https://scikit-learn.org/stable/tutorial/index.html)"
   ]
  },
  {
   "cell_type": "markdown",
   "metadata": {},
   "source": [
    "# Mathematical sample of testing Hypothesis One-Way Anova"
   ]
  },
  {
   "cell_type": "markdown",
   "metadata": {},
   "source": [
    "Using sets of screenshots from Youtuber for better understanding of mathematical order and flow to achieve testing of this Hypothesis"
   ]
  },
  {
   "cell_type": "markdown",
   "metadata": {},
   "source": [
    "[Youtube link](https://www.youtube.com/watch?v=dUw-Jg4py1c)"
   ]
  },
  {
   "cell_type": "markdown",
   "metadata": {},
   "source": [
    "![Anova](https://github.com/rastislp/Machine_learning/blob/main/Images/anova1.JPG?raw=true)"
   ]
  },
  {
   "cell_type": "markdown",
   "metadata": {},
   "source": [
    "**Step 1.**\n",
    "Define null and alternative Hypothesis"
   ]
  },
  {
   "cell_type": "markdown",
   "metadata": {},
   "source": [
    "![Anova](https://github.com/rastislp/Machine_learning/blob/main/Images/anova2.JPG?raw=true)"
   ]
  },
  {
   "cell_type": "markdown",
   "metadata": {},
   "source": [
    "**Step 2.**\n",
    "Calculate sum of squares between the groups."
   ]
  },
  {
   "cell_type": "markdown",
   "metadata": {},
   "source": [
    "![Anova](https://github.com/rastislp/Machine_learning/blob/main/Images/anova3.JPG?raw=true)"
   ]
  },
  {
   "cell_type": "markdown",
   "metadata": {},
   "source": [
    "**Step 3.**\n",
    "Caculate sum of squares within the groups"
   ]
  },
  {
   "cell_type": "markdown",
   "metadata": {},
   "source": [
    "![Anova](https://github.com/rastislp/Machine_learning/blob/main/Images/anova4.JPG?raw=true)"
   ]
  },
  {
   "cell_type": "markdown",
   "metadata": {},
   "source": [
    "**Step 4.**\n",
    "Calculate sum of squares for Total variance."
   ]
  },
  {
   "cell_type": "markdown",
   "metadata": {},
   "source": [
    "![Anova](https://github.com/rastislp/Machine_learning/blob/main/Images/anova5.JPG?raw=true)"
   ]
  },
  {
   "cell_type": "markdown",
   "metadata": {},
   "source": [
    "**Step 5.**\n",
    "Prepare the Anova table."
   ]
  },
  {
   "cell_type": "markdown",
   "metadata": {},
   "source": [
    "![Anova](https://github.com/rastislp/Machine_learning/blob/main/Images/anova6.JPG?raw=true)"
   ]
  },
  {
   "cell_type": "markdown",
   "metadata": {},
   "source": [
    "F-ratio = 1.5 while F-limit 5% from distribution table = F(2,9)=4.26"
   ]
  },
  {
   "cell_type": "markdown",
   "metadata": {},
   "source": [
    "**Step 5.1.**\n",
    "Crosscheck numerator (2) with Denominator (9)"
   ]
  },
  {
   "cell_type": "markdown",
   "metadata": {},
   "source": [
    "![Anova](https://github.com/rastislp/Machine_learning/blob/main/Images/anova7.JPG?raw=true)"
   ]
  },
  {
   "cell_type": "markdown",
   "metadata": {},
   "source": [
    "**Step 6.**\n",
    "Prepare the Anova table."
   ]
  },
  {
   "cell_type": "markdown",
   "metadata": {},
   "source": [
    "![Anova](https://github.com/rastislp/Machine_learning/blob/main/Images/anova8.JPG?raw=true)"
   ]
  },
  {
   "cell_type": "markdown",
   "metadata": {},
   "source": [
    "F-ratio (1.5) is less than Critical value (4.26), therefore we can conclude that **null Hypothesis is True and cannot be rejected**. It also implies that variety of wheat(seeds) doesnt affect the production of wheat significantly."
   ]
  },
  {
   "cell_type": "markdown",
   "metadata": {},
   "source": [
    "## Lets start with ANOVA "
   ]
  },
  {
   "cell_type": "markdown",
   "metadata": {},
   "source": [
    "Prior writing this paragraph I have watch numerous contents relating to Analysis of Variance. Well explained videos mathematically calculated results whether Null Hypothesis could not be or has to be rejected perhaps Alternative Hypothesis is true. Among wide community of Scientist and Physics there was one that I could easily track how he proceeds with any mathematical or algorithm  problem. Brandon Foltz with pseudo name / YouTube name “Statistic 101” senior learning designer has variety of learning content that is very well explained."
   ]
  },
  {
   "cell_type": "markdown",
   "metadata": {},
   "source": [
    "As a Continuous Improvement Specialist in my new job, I am also undertaking  development course of Lean Six Sigma. Company “Prysmian Group” I work for within my region manufactures data and optical cables. Part of this training is to deliver savings in reduction of insulated scrap via DMAIC (data-driven strategy used to improve processes). Prior defining a problem statement and set a goal I have started drill down in order to collect most accurate data."
   ]
  },
  {
   "cell_type": "markdown",
   "metadata": {},
   "source": [
    "Our plant in Presov, Slovakia during manufacturing process creates in average 30 tonnes of  insulated scrap on monthly basis. There are two manufacturing processes that such a scrap can be made. Core line and Group Twinners. Basically core line process extrudes cooper cable with issolation which 8 of those are then grouped in pairs of 2 and those four pairs twisted again.  "
   ]
  },
  {
   "cell_type": "markdown",
   "metadata": {},
   "source": [
    "As a part of drill down i have defined 3 types of scrap within Core lines and 2 more within Group Twinner. Currently I am in my day 4 of this data collection to quantify amount scrap produced at different type of proceses. I am not exactly sure what would be outcome of this data colection in terms of what type of scrap do we target and define a Problem statement but after a learning Anova last few days I have clear goal to use one type of colected data and analize variance within them. Rejecting null hypothesis would be a baseline for improvment.  "
   ]
  },
  {
   "cell_type": "markdown",
   "metadata": {},
   "source": [
    "As already mentioned one of the type of scrap i am observing is a variance in lenght of cable required to make a change from one colour to another. During 12 hour shift operator manufactures between 5 to 6 sets of cable with 4 white coils of cable that is then paired with 1 coil of blue, brown, green and orange coil. Typically operator starts manufacturing 24 coils of white and than move on 6 orange, 6 blue...  Thats what Ethernet cable looks like.   "
   ]
  },
  {
   "cell_type": "markdown",
   "metadata": {},
   "source": [
    "As we have 8 production lines(Groups of 8 factors) and colour change(columns of 5 factors) is made not always but mainly 5 times during this shift with multiple data colected across multiple shifts(Replicaton-data taken accross 2 shifts and several days)."
   ]
  },
  {
   "cell_type": "markdown",
   "metadata": {},
   "source": [
    "**Sound's familiar?**"
   ]
  },
  {
   "cell_type": "markdown",
   "metadata": {},
   "source": [
    "Yes, It does to me too now. Therefore i am going to use data i have collected over  number of days to perform and display the results of ANOVA using scipy.stats."
   ]
  },
  {
   "cell_type": "markdown",
   "metadata": {},
   "source": [
    "## What Is a 2-Way ANOVA?"
   ]
  },
  {
   "cell_type": "markdown",
   "metadata": {},
   "source": [
    " ANOVA stands for analysis of variance and tests for differences in the effects of independent variables on a dependent variable. A two-way ANOVA test is a statistical test used to determine the effect of two nominal predictor variables on a continuous outcome variable.\n",
    "\n",
    "A two-way ANOVA tests the effect of two independent variables on a dependent variable. A two-way ANOVA test analyzes the effect of the independent variables on the expected outcome along with their relationship to the outcome itself. Random factors would be considered to have no statistical influence on a data set, while systematic factors would be considered to have statistical significance. "
   ]
  },
  {
   "cell_type": "markdown",
   "metadata": {},
   "source": [
    "## Screenshot from my one-pager of LSS project"
   ]
  },
  {
   "cell_type": "markdown",
   "metadata": {},
   "source": [
    "![Anova](https://github.com/rastislp/Machine_learning/blob/main/Images/lss.JPG?raw=true)"
   ]
  },
  {
   "cell_type": "markdown",
   "metadata": {},
   "source": [
    "Approach to this project was that i have started drill down asking for this level of details:"
   ]
  },
  {
   "cell_type": "markdown",
   "metadata": {},
   "source": [
    "1. Production line (KP100,KP300...)\n",
    "2. Diameter of cooper cable before insulation (0.42,0.55...)\n",
    "3. Color change (White to Orange, Orange to Brown...)\n",
    "4. Category change\n",
    "5. startup\n",
    "6. NCR for Breakdown\n",
    "7. NCR for incorrect parameters"
   ]
  },
  {
   "cell_type": "markdown",
   "metadata": {},
   "source": [
    "Drill down form pictured below"
   ]
  },
  {
   "cell_type": "markdown",
   "metadata": {},
   "source": [
    "![Anova](https://github.com/rastislp/Machine_learning/blob/main/Images/drill.JPG?raw=true)"
   ]
  },
  {
   "cell_type": "markdown",
   "metadata": {},
   "source": [
    "Data structure resulting from drill down pictured below."
   ]
  },
  {
   "cell_type": "markdown",
   "metadata": {},
   "source": [
    "![Anova](https://github.com/rastislp/Machine_learning/blob/main/Images/data.JPG?raw=true)"
   ]
  },
  {
   "cell_type": "markdown",
   "metadata": {},
   "source": [
    "Next step towards completing these project is analysing collected data. As you can see from sunburn chart from one pager above, colour change scrap is significant and data strucure are just like one i need for performing 2 way anova analysis. For purpose of this analysis i am going to filter out data from production lines KP302 and KP303 as those werent running and repeat 6 times.\n",
    "\n",
    "As there are 6 and 5 levels for production lines and colour change types, respectively, this is a 6 x 5 factorial design yielding 30 unique combinations for measurement of the response variable."
   ]
  },
  {
   "cell_type": "markdown",
   "metadata": {},
   "source": [
    "This data set has 2 factors. By using 2 way Anova we can evaluate how type of line and change of colours affects the lenght of cable required for satisfied results. "
   ]
  },
  {
   "cell_type": "markdown",
   "metadata": {},
   "source": [
    "We can also test 3 Hypothesis:"
   ]
  },
  {
   "cell_type": "markdown",
   "metadata": {},
   "source": [
    "1. Effect of line on lenght of cable required to change colour.\n",
    "2. Effect of colour change on lenght of cable required to change colour.\n",
    "3. Effect of line and colour change on lenght of cable required to change colour."
   ]
  },
  {
   "cell_type": "code",
   "execution_count": 2,
   "metadata": {},
   "outputs": [],
   "source": [
    "import pandas as pd\n",
    "import seaborn as sns"
   ]
  },
  {
   "cell_type": "code",
   "execution_count": 3,
   "metadata": {},
   "outputs": [],
   "source": [
    "\n",
    "d = pd.read_csv(\"Images/CSVdata.csv\")\n"
   ]
  },
  {
   "cell_type": "code",
   "execution_count": 4,
   "metadata": {},
   "outputs": [
    {
     "name": "stdout",
     "output_type": "stream",
     "text": [
      "      Line  white_to_orange  orange_to_brown  brown_to_blue  blue_to_green  \\\n",
      "0   KP_100              1.8              1.7            2.9            2.2   \n",
      "1   KP_100              1.7              1.6            2.5            2.1   \n",
      "2   KP_100              1.8              2.5            2.2            2.6   \n",
      "3   KP_100              1.7              1.7            2.9            2.1   \n",
      "4   KP_100              1.7              1.7            2.1            1.9   \n",
      "5   KP_100              1.7              3.5            5.1            4.4   \n",
      "6   KP_101              2.5              2.5            3.2            2.5   \n",
      "7   KP_101              2.4              2.4            2.7            2.2   \n",
      "8   KP_101              2.5              1.6            2.2            2.0   \n",
      "9   KP_101              2.5              3.0            3.5            3.0   \n",
      "10  KP_101              2.6              2.8            2.7            2.7   \n",
      "11  KP_101              2.4              2.3            2.8            2.3   \n",
      "12  KP_200              1.3              1.5            2.9            1.7   \n",
      "13  KP_200              2.2              1.7            2.2            1.9   \n",
      "14  KP_200              1.6              1.4            2.0            1.8   \n",
      "15  KP_200              1.2              1.8            2.6            1.7   \n",
      "16  KP_200              1.5              1.5            2.5            1.5   \n",
      "17  KP_200              1.5              1.5            2.0            1.8   \n",
      "18  KP_201              1.5              1.6            2.8            4.0   \n",
      "19  KP_201              1.6              1.6            2.7            2.0   \n",
      "20  KP_201              1.5              2.9            2.5            2.0   \n",
      "21  KP_201              1.5              1.5            1.7            1.6   \n",
      "22  KP_201              1.5              1.6            2.5            1.8   \n",
      "23  KP_300              1.9              2.0            4.2            4.0   \n",
      "24  KP_300              1.5              1.5            4.0            3.0   \n",
      "25  KP_300              2.3              1.8            4.6            3.0   \n",
      "26  KP_300              2.1              2.0            3.6            3.0   \n",
      "27  KP_300              2.5              1.8            4.5            3.7   \n",
      "28  KP_300              2.6              2.0            4.5            3.0   \n",
      "29  KP_301              2.0              2.3            2.9            2.4   \n",
      "30  KP_301              2.3              2.3            3.1            2.8   \n",
      "31  KP_301              2.0              1.5            2.8            2.6   \n",
      "32  KP_301              1.9              2.5            2.9            2.4   \n",
      "33  KP_301              1.7              2.6            2.8            2.7   \n",
      "34  KP_301              1.8              2.6            3.2            3.0   \n",
      "\n",
      "    green_to_white  \n",
      "0              3.0  \n",
      "1              2.9  \n",
      "2              2.7  \n",
      "3              3.2  \n",
      "4              2.5  \n",
      "5              5.3  \n",
      "6              3.3  \n",
      "7              2.6  \n",
      "8              2.1  \n",
      "9              3.5  \n",
      "10             3.0  \n",
      "11             2.7  \n",
      "12             2.4  \n",
      "13             5.0  \n",
      "14             2.3  \n",
      "15             2.7  \n",
      "16             2.0  \n",
      "17             2.2  \n",
      "18             2.6  \n",
      "19             2.2  \n",
      "20             2.2  \n",
      "21             2.2  \n",
      "22             2.2  \n",
      "23             3.0  \n",
      "24             4.0  \n",
      "25             3.5  \n",
      "26             3.0  \n",
      "27             3.5  \n",
      "28             4.5  \n",
      "29             2.8  \n",
      "30             3.5  \n",
      "31             2.5  \n",
      "32             2.8  \n",
      "33             2.8  \n",
      "34             4.8  \n"
     ]
    }
   ],
   "source": [
    "print(d)"
   ]
  },
  {
   "cell_type": "code",
   "execution_count": 5,
   "metadata": {},
   "outputs": [],
   "source": [
    "d_melt = pd.melt(d, id_vars=['Line'], value_vars=['white_to_orange', 'orange_to_brown', 'brown_to_blue', 'blue_to_green', 'green_to_white' ])\n",
    "\n"
   ]
  },
  {
   "cell_type": "code",
   "execution_count": 6,
   "metadata": {},
   "outputs": [],
   "source": [
    "d_melt.columns = ['Line', 'Colour_change', 'km_value']"
   ]
  },
  {
   "cell_type": "code",
   "execution_count": 7,
   "metadata": {},
   "outputs": [
    {
     "data": {
      "text/html": [
       "<div>\n",
       "<style scoped>\n",
       "    .dataframe tbody tr th:only-of-type {\n",
       "        vertical-align: middle;\n",
       "    }\n",
       "\n",
       "    .dataframe tbody tr th {\n",
       "        vertical-align: top;\n",
       "    }\n",
       "\n",
       "    .dataframe thead th {\n",
       "        text-align: right;\n",
       "    }\n",
       "</style>\n",
       "<table border=\"1\" class=\"dataframe\">\n",
       "  <thead>\n",
       "    <tr style=\"text-align: right;\">\n",
       "      <th></th>\n",
       "      <th>Line</th>\n",
       "      <th>Colour_change</th>\n",
       "      <th>km_value</th>\n",
       "    </tr>\n",
       "  </thead>\n",
       "  <tbody>\n",
       "    <tr>\n",
       "      <td>0</td>\n",
       "      <td>KP_100</td>\n",
       "      <td>white_to_orange</td>\n",
       "      <td>1.8</td>\n",
       "    </tr>\n",
       "    <tr>\n",
       "      <td>1</td>\n",
       "      <td>KP_100</td>\n",
       "      <td>white_to_orange</td>\n",
       "      <td>1.7</td>\n",
       "    </tr>\n",
       "    <tr>\n",
       "      <td>2</td>\n",
       "      <td>KP_100</td>\n",
       "      <td>white_to_orange</td>\n",
       "      <td>1.8</td>\n",
       "    </tr>\n",
       "    <tr>\n",
       "      <td>3</td>\n",
       "      <td>KP_100</td>\n",
       "      <td>white_to_orange</td>\n",
       "      <td>1.7</td>\n",
       "    </tr>\n",
       "    <tr>\n",
       "      <td>4</td>\n",
       "      <td>KP_100</td>\n",
       "      <td>white_to_orange</td>\n",
       "      <td>1.7</td>\n",
       "    </tr>\n",
       "  </tbody>\n",
       "</table>\n",
       "</div>"
      ],
      "text/plain": [
       "     Line    Colour_change  km_value\n",
       "0  KP_100  white_to_orange       1.8\n",
       "1  KP_100  white_to_orange       1.7\n",
       "2  KP_100  white_to_orange       1.8\n",
       "3  KP_100  white_to_orange       1.7\n",
       "4  KP_100  white_to_orange       1.7"
      ]
     },
     "execution_count": 7,
     "metadata": {},
     "output_type": "execute_result"
    }
   ],
   "source": [
    "d_melt.head()"
   ]
  },
  {
   "cell_type": "code",
   "execution_count": 8,
   "metadata": {},
   "outputs": [
    {
     "data": {
      "text/plain": [
       "<matplotlib.axes._subplots.AxesSubplot at 0x1fbcc9ff608>"
      ]
     },
     "execution_count": 8,
     "metadata": {},
     "output_type": "execute_result"
    },
    {
     "data": {
      "image/png": "[encoded data removed]",
      "text/plain": [
       "<Figure size 432x288 with 1 Axes>"
      ]
     },
     "metadata": {
      "needs_background": "light"
     },
     "output_type": "display_data"
    }
   ],
   "source": [
    "sns.boxplot(x=\"Line\", y=\"km_value\", hue=\"Colour_change\", data=d_melt, palette=\"Set1\")"
   ]
  },
  {
   "cell_type": "code",
   "execution_count": 9,
   "metadata": {},
   "outputs": [],
   "source": [
    "import statsmodels.api as sm"
   ]
  },
  {
   "cell_type": "code",
   "execution_count": 10,
   "metadata": {},
   "outputs": [],
   "source": [
    "from statsmodels.formula.api import ols"
   ]
  },
  {
   "cell_type": "code",
   "execution_count": 11,
   "metadata": {},
   "outputs": [],
   "source": [
    "model = ols('km_value ~ C(Line) + C(Colour_change) + C(Line):C(Colour_change)', data=d_melt).fit()"
   ]
  },
  {
   "cell_type": "code",
   "execution_count": 12,
   "metadata": {},
   "outputs": [],
   "source": [
    "anova_table = sm.stats.anova_lm(model, typ=2)"
   ]
  },
  {
   "cell_type": "code",
   "execution_count": 13,
   "metadata": {},
   "outputs": [
    {
     "data": {
      "text/html": [
       "<div>\n",
       "<style scoped>\n",
       "    .dataframe tbody tr th:only-of-type {\n",
       "        vertical-align: middle;\n",
       "    }\n",
       "\n",
       "    .dataframe tbody tr th {\n",
       "        vertical-align: top;\n",
       "    }\n",
       "\n",
       "    .dataframe thead th {\n",
       "        text-align: right;\n",
       "    }\n",
       "</style>\n",
       "<table border=\"1\" class=\"dataframe\">\n",
       "  <thead>\n",
       "    <tr style=\"text-align: right;\">\n",
       "      <th></th>\n",
       "      <th>sum_sq</th>\n",
       "      <th>df</th>\n",
       "      <th>F</th>\n",
       "      <th>PR(&gt;F)</th>\n",
       "    </tr>\n",
       "  </thead>\n",
       "  <tbody>\n",
       "    <tr>\n",
       "      <td>C(Line)</td>\n",
       "      <td>21.037943</td>\n",
       "      <td>5.0</td>\n",
       "      <td>13.208113</td>\n",
       "      <td>1.327776e-10</td>\n",
       "    </tr>\n",
       "    <tr>\n",
       "      <td>C(Colour_change)</td>\n",
       "      <td>37.490629</td>\n",
       "      <td>4.0</td>\n",
       "      <td>29.421867</td>\n",
       "      <td>6.525664e-18</td>\n",
       "    </tr>\n",
       "    <tr>\n",
       "      <td>C(Line):C(Colour_change)</td>\n",
       "      <td>12.728438</td>\n",
       "      <td>20.0</td>\n",
       "      <td>1.997803</td>\n",
       "      <td>1.044290e-02</td>\n",
       "    </tr>\n",
       "    <tr>\n",
       "      <td>Residual</td>\n",
       "      <td>46.191333</td>\n",
       "      <td>145.0</td>\n",
       "      <td>NaN</td>\n",
       "      <td>NaN</td>\n",
       "    </tr>\n",
       "  </tbody>\n",
       "</table>\n",
       "</div>"
      ],
      "text/plain": [
       "                             sum_sq     df          F        PR(>F)\n",
       "C(Line)                   21.037943    5.0  13.208113  1.327776e-10\n",
       "C(Colour_change)          37.490629    4.0  29.421867  6.525664e-18\n",
       "C(Line):C(Colour_change)  12.728438   20.0   1.997803  1.044290e-02\n",
       "Residual                  46.191333  145.0        NaN           NaN"
      ]
     },
     "execution_count": 13,
     "metadata": {},
     "output_type": "execute_result"
    }
   ],
   "source": [
    "anova_table"
   ]
  },
  {
   "cell_type": "code",
   "execution_count": 15,
   "metadata": {},
   "outputs": [],
   "source": [
    "from bioinfokit.analys import stat"
   ]
  },
  {
   "cell_type": "code",
   "execution_count": 16,
   "metadata": {},
   "outputs": [],
   "source": [
    "res = stat()"
   ]
  },
  {
   "cell_type": "code",
   "execution_count": 17,
   "metadata": {},
   "outputs": [],
   "source": [
    "res.anova_stat(df=d_melt, res_var='km_value', anova_model='km_value~C(Line)+C(Colour_change)+C(Line):C(Colour_change)')"
   ]
  },
  {
   "cell_type": "code",
   "execution_count": 18,
   "metadata": {},
   "outputs": [
    {
     "data": {
      "text/html": [
       "<div>\n",
       "<style scoped>\n",
       "    .dataframe tbody tr th:only-of-type {\n",
       "        vertical-align: middle;\n",
       "    }\n",
       "\n",
       "    .dataframe tbody tr th {\n",
       "        vertical-align: top;\n",
       "    }\n",
       "\n",
       "    .dataframe thead th {\n",
       "        text-align: right;\n",
       "    }\n",
       "</style>\n",
       "<table border=\"1\" class=\"dataframe\">\n",
       "  <thead>\n",
       "    <tr style=\"text-align: right;\">\n",
       "      <th></th>\n",
       "      <th>df</th>\n",
       "      <th>sum_sq</th>\n",
       "      <th>mean_sq</th>\n",
       "      <th>F</th>\n",
       "      <th>PR(&gt;F)</th>\n",
       "    </tr>\n",
       "  </thead>\n",
       "  <tbody>\n",
       "    <tr>\n",
       "      <td>C(Line)</td>\n",
       "      <td>5.0</td>\n",
       "      <td>21.037943</td>\n",
       "      <td>4.207589</td>\n",
       "      <td>13.208113</td>\n",
       "      <td>1.327776e-10</td>\n",
       "    </tr>\n",
       "    <tr>\n",
       "      <td>C(Colour_change)</td>\n",
       "      <td>4.0</td>\n",
       "      <td>37.490629</td>\n",
       "      <td>9.372657</td>\n",
       "      <td>29.421867</td>\n",
       "      <td>6.525664e-18</td>\n",
       "    </tr>\n",
       "    <tr>\n",
       "      <td>C(Line):C(Colour_change)</td>\n",
       "      <td>20.0</td>\n",
       "      <td>12.728438</td>\n",
       "      <td>0.636422</td>\n",
       "      <td>1.997803</td>\n",
       "      <td>1.044290e-02</td>\n",
       "    </tr>\n",
       "    <tr>\n",
       "      <td>Residual</td>\n",
       "      <td>145.0</td>\n",
       "      <td>46.191333</td>\n",
       "      <td>0.318561</td>\n",
       "      <td>NaN</td>\n",
       "      <td>NaN</td>\n",
       "    </tr>\n",
       "  </tbody>\n",
       "</table>\n",
       "</div>"
      ],
      "text/plain": [
       "                             df     sum_sq   mean_sq          F        PR(>F)\n",
       "C(Line)                     5.0  21.037943  4.207589  13.208113  1.327776e-10\n",
       "C(Colour_change)            4.0  37.490629  9.372657  29.421867  6.525664e-18\n",
       "C(Line):C(Colour_change)   20.0  12.728438  0.636422   1.997803  1.044290e-02\n",
       "Residual                  145.0  46.191333  0.318561        NaN           NaN"
      ]
     },
     "execution_count": 18,
     "metadata": {},
     "output_type": "execute_result"
    }
   ],
   "source": [
    "res.anova_summary"
   ]
  },
  {
   "cell_type": "markdown",
   "metadata": {},
   "source": [
    "The p value obtained from ANOVA analysis for line, colour change, and interaction are statistically significant (p<0.05). We conclude that type of genotype significantly affects the lenght of cables required, process (colour change) significantly affects the lenght of cables required, and interaction of both line and process (colour change) significantly affects the lenght of cables required."
   ]
  },
  {
   "cell_type": "code",
   "execution_count": 19,
   "metadata": {},
   "outputs": [],
   "source": [
    "from statsmodels.graphics.factorplots import interaction_plot"
   ]
  },
  {
   "cell_type": "code",
   "execution_count": 20,
   "metadata": {},
   "outputs": [],
   "source": [
    "import matplotlib.pyplot as plt"
   ]
  },
  {
   "cell_type": "code",
   "execution_count": 24,
   "metadata": {},
   "outputs": [
    {
     "data": {
      "image/png": "[encoded data removed]",
      "text/plain": [
       "<Figure size 432x288 with 1 Axes>"
      ]
     },
     "metadata": {
      "needs_background": "light"
     },
     "output_type": "display_data"
    }
   ],
   "source": [
    "fig = interaction_plot(x=d_melt['Line'], trace=d_melt['Colour_change'], response=d_melt['km_value'],colors=['#47b352','#3cb0c7', '#c2c4bc', '#403823', '#e88a0e'])"
   ]
  },
  {
   "cell_type": "markdown",
   "metadata": {},
   "source": [
    "From the interaction plot, the interaction effect is significant between the Lines and colour change because lines are not parallel. For a more reliable conclusion of the interaction plot, it should be verified with the F test for interaction."
   ]
  },
  {
   "cell_type": "markdown",
   "metadata": {},
   "source": [
    "### Multiple pairwise comparisons (Post-hoc test)"
   ]
  },
  {
   "cell_type": "markdown",
   "metadata": {},
   "source": [
    "As we already know, line and process of colour change differences are statistically significant, but ANOVA does not tell which line and process of colour change are significantly different from each other."
   ]
  },
  {
   "cell_type": "code",
   "execution_count": 27,
   "metadata": {},
   "outputs": [],
   "source": [
    "from bioinfokit.analys import stat"
   ]
  },
  {
   "cell_type": "code",
   "execution_count": 28,
   "metadata": {},
   "outputs": [],
   "source": [
    "res = stat()"
   ]
  },
  {
   "cell_type": "code",
   "execution_count": 30,
   "metadata": {},
   "outputs": [
    {
     "data": {
      "text/html": [
       "<div>\n",
       "<style scoped>\n",
       "    .dataframe tbody tr th:only-of-type {\n",
       "        vertical-align: middle;\n",
       "    }\n",
       "\n",
       "    .dataframe tbody tr th {\n",
       "        vertical-align: top;\n",
       "    }\n",
       "\n",
       "    .dataframe thead th {\n",
       "        text-align: right;\n",
       "    }\n",
       "</style>\n",
       "<table border=\"1\" class=\"dataframe\">\n",
       "  <thead>\n",
       "    <tr style=\"text-align: right;\">\n",
       "      <th></th>\n",
       "      <th>group1</th>\n",
       "      <th>group2</th>\n",
       "      <th>Diff</th>\n",
       "      <th>Lower</th>\n",
       "      <th>Upper</th>\n",
       "      <th>q-value</th>\n",
       "      <th>p-value</th>\n",
       "    </tr>\n",
       "  </thead>\n",
       "  <tbody>\n",
       "    <tr>\n",
       "      <td>0</td>\n",
       "      <td>KP_100</td>\n",
       "      <td>KP_101</td>\n",
       "      <td>0.093333</td>\n",
       "      <td>-0.327565</td>\n",
       "      <td>0.514231</td>\n",
       "      <td>0.905735</td>\n",
       "      <td>0.900000</td>\n",
       "    </tr>\n",
       "    <tr>\n",
       "      <td>1</td>\n",
       "      <td>KP_100</td>\n",
       "      <td>KP_200</td>\n",
       "      <td>0.526667</td>\n",
       "      <td>0.105769</td>\n",
       "      <td>0.947565</td>\n",
       "      <td>5.110933</td>\n",
       "      <td>0.005460</td>\n",
       "    </tr>\n",
       "    <tr>\n",
       "      <td>2</td>\n",
       "      <td>KP_100</td>\n",
       "      <td>KP_201</td>\n",
       "      <td>0.451333</td>\n",
       "      <td>0.009892</td>\n",
       "      <td>0.892775</td>\n",
       "      <td>4.176048</td>\n",
       "      <td>0.041944</td>\n",
       "    </tr>\n",
       "    <tr>\n",
       "      <td>3</td>\n",
       "      <td>KP_100</td>\n",
       "      <td>KP_300</td>\n",
       "      <td>0.496667</td>\n",
       "      <td>0.075769</td>\n",
       "      <td>0.917565</td>\n",
       "      <td>4.819804</td>\n",
       "      <td>0.010757</td>\n",
       "    </tr>\n",
       "    <tr>\n",
       "      <td>4</td>\n",
       "      <td>KP_100</td>\n",
       "      <td>KP_301</td>\n",
       "      <td>0.086667</td>\n",
       "      <td>-0.334231</td>\n",
       "      <td>0.507565</td>\n",
       "      <td>0.841040</td>\n",
       "      <td>0.900000</td>\n",
       "    </tr>\n",
       "    <tr>\n",
       "      <td>5</td>\n",
       "      <td>KP_101</td>\n",
       "      <td>KP_200</td>\n",
       "      <td>0.620000</td>\n",
       "      <td>0.199102</td>\n",
       "      <td>1.040898</td>\n",
       "      <td>6.016668</td>\n",
       "      <td>0.001000</td>\n",
       "    </tr>\n",
       "    <tr>\n",
       "      <td>6</td>\n",
       "      <td>KP_101</td>\n",
       "      <td>KP_201</td>\n",
       "      <td>0.544667</td>\n",
       "      <td>0.103225</td>\n",
       "      <td>0.986108</td>\n",
       "      <td>5.039632</td>\n",
       "      <td>0.006468</td>\n",
       "    </tr>\n",
       "    <tr>\n",
       "      <td>7</td>\n",
       "      <td>KP_101</td>\n",
       "      <td>KP_300</td>\n",
       "      <td>0.403333</td>\n",
       "      <td>-0.017565</td>\n",
       "      <td>0.824231</td>\n",
       "      <td>3.914069</td>\n",
       "      <td>0.068808</td>\n",
       "    </tr>\n",
       "    <tr>\n",
       "      <td>8</td>\n",
       "      <td>KP_101</td>\n",
       "      <td>KP_301</td>\n",
       "      <td>0.006667</td>\n",
       "      <td>-0.414231</td>\n",
       "      <td>0.427565</td>\n",
       "      <td>0.064695</td>\n",
       "      <td>0.900000</td>\n",
       "    </tr>\n",
       "    <tr>\n",
       "      <td>9</td>\n",
       "      <td>KP_200</td>\n",
       "      <td>KP_201</td>\n",
       "      <td>0.075333</td>\n",
       "      <td>-0.366108</td>\n",
       "      <td>0.516775</td>\n",
       "      <td>0.697036</td>\n",
       "      <td>0.900000</td>\n",
       "    </tr>\n",
       "    <tr>\n",
       "      <td>10</td>\n",
       "      <td>KP_200</td>\n",
       "      <td>KP_300</td>\n",
       "      <td>1.023333</td>\n",
       "      <td>0.602435</td>\n",
       "      <td>1.444231</td>\n",
       "      <td>9.930737</td>\n",
       "      <td>0.001000</td>\n",
       "    </tr>\n",
       "    <tr>\n",
       "      <td>11</td>\n",
       "      <td>KP_200</td>\n",
       "      <td>KP_301</td>\n",
       "      <td>0.613333</td>\n",
       "      <td>0.192435</td>\n",
       "      <td>1.034231</td>\n",
       "      <td>5.951973</td>\n",
       "      <td>0.001000</td>\n",
       "    </tr>\n",
       "    <tr>\n",
       "      <td>12</td>\n",
       "      <td>KP_201</td>\n",
       "      <td>KP_300</td>\n",
       "      <td>0.948000</td>\n",
       "      <td>0.506558</td>\n",
       "      <td>1.389442</td>\n",
       "      <td>8.771551</td>\n",
       "      <td>0.001000</td>\n",
       "    </tr>\n",
       "    <tr>\n",
       "      <td>13</td>\n",
       "      <td>KP_201</td>\n",
       "      <td>KP_301</td>\n",
       "      <td>0.538000</td>\n",
       "      <td>0.096558</td>\n",
       "      <td>0.979442</td>\n",
       "      <td>4.977948</td>\n",
       "      <td>0.007479</td>\n",
       "    </tr>\n",
       "    <tr>\n",
       "      <td>14</td>\n",
       "      <td>KP_300</td>\n",
       "      <td>KP_301</td>\n",
       "      <td>0.410000</td>\n",
       "      <td>-0.010898</td>\n",
       "      <td>0.830898</td>\n",
       "      <td>3.978765</td>\n",
       "      <td>0.061073</td>\n",
       "    </tr>\n",
       "  </tbody>\n",
       "</table>\n",
       "</div>"
      ],
      "text/plain": [
       "    group1  group2      Diff     Lower     Upper   q-value   p-value\n",
       "0   KP_100  KP_101  0.093333 -0.327565  0.514231  0.905735  0.900000\n",
       "1   KP_100  KP_200  0.526667  0.105769  0.947565  5.110933  0.005460\n",
       "2   KP_100  KP_201  0.451333  0.009892  0.892775  4.176048  0.041944\n",
       "3   KP_100  KP_300  0.496667  0.075769  0.917565  4.819804  0.010757\n",
       "4   KP_100  KP_301  0.086667 -0.334231  0.507565  0.841040  0.900000\n",
       "5   KP_101  KP_200  0.620000  0.199102  1.040898  6.016668  0.001000\n",
       "6   KP_101  KP_201  0.544667  0.103225  0.986108  5.039632  0.006468\n",
       "7   KP_101  KP_300  0.403333 -0.017565  0.824231  3.914069  0.068808\n",
       "8   KP_101  KP_301  0.006667 -0.414231  0.427565  0.064695  0.900000\n",
       "9   KP_200  KP_201  0.075333 -0.366108  0.516775  0.697036  0.900000\n",
       "10  KP_200  KP_300  1.023333  0.602435  1.444231  9.930737  0.001000\n",
       "11  KP_200  KP_301  0.613333  0.192435  1.034231  5.951973  0.001000\n",
       "12  KP_201  KP_300  0.948000  0.506558  1.389442  8.771551  0.001000\n",
       "13  KP_201  KP_301  0.538000  0.096558  0.979442  4.977948  0.007479\n",
       "14  KP_300  KP_301  0.410000 -0.010898  0.830898  3.978765  0.061073"
      ]
     },
     "execution_count": 30,
     "metadata": {},
     "output_type": "execute_result"
    }
   ],
   "source": [
    "res.tukey_hsd(df=d_melt, res_var='km_value', xfac_var='Line', anova_model='km_value~C(Line)+C(Colour_change)+C(Line):C(Colour_change)')\n",
    "res.tukey_summary"
   ]
  },
  {
   "cell_type": "code",
   "execution_count": 31,
   "metadata": {},
   "outputs": [
    {
     "data": {
      "text/html": [
       "<div>\n",
       "<style scoped>\n",
       "    .dataframe tbody tr th:only-of-type {\n",
       "        vertical-align: middle;\n",
       "    }\n",
       "\n",
       "    .dataframe tbody tr th {\n",
       "        vertical-align: top;\n",
       "    }\n",
       "\n",
       "    .dataframe thead th {\n",
       "        text-align: right;\n",
       "    }\n",
       "</style>\n",
       "<table border=\"1\" class=\"dataframe\">\n",
       "  <thead>\n",
       "    <tr style=\"text-align: right;\">\n",
       "      <th></th>\n",
       "      <th>group1</th>\n",
       "      <th>group2</th>\n",
       "      <th>Diff</th>\n",
       "      <th>Lower</th>\n",
       "      <th>Upper</th>\n",
       "      <th>q-value</th>\n",
       "      <th>p-value</th>\n",
       "    </tr>\n",
       "  </thead>\n",
       "  <tbody>\n",
       "    <tr>\n",
       "      <td>0</td>\n",
       "      <td>white_to_orange</td>\n",
       "      <td>orange_to_brown</td>\n",
       "      <td>0.114286</td>\n",
       "      <td>-0.258429</td>\n",
       "      <td>0.487000</td>\n",
       "      <td>1.197925</td>\n",
       "      <td>0.900000</td>\n",
       "    </tr>\n",
       "    <tr>\n",
       "      <td>1</td>\n",
       "      <td>white_to_orange</td>\n",
       "      <td>brown_to_blue</td>\n",
       "      <td>1.071429</td>\n",
       "      <td>0.698714</td>\n",
       "      <td>1.444143</td>\n",
       "      <td>11.230549</td>\n",
       "      <td>0.001000</td>\n",
       "    </tr>\n",
       "    <tr>\n",
       "      <td>2</td>\n",
       "      <td>white_to_orange</td>\n",
       "      <td>blue_to_green</td>\n",
       "      <td>0.588571</td>\n",
       "      <td>0.215857</td>\n",
       "      <td>0.961286</td>\n",
       "      <td>6.169315</td>\n",
       "      <td>0.001000</td>\n",
       "    </tr>\n",
       "    <tr>\n",
       "      <td>3</td>\n",
       "      <td>white_to_orange</td>\n",
       "      <td>green_to_white</td>\n",
       "      <td>1.105714</td>\n",
       "      <td>0.733000</td>\n",
       "      <td>1.478429</td>\n",
       "      <td>11.589927</td>\n",
       "      <td>0.001000</td>\n",
       "    </tr>\n",
       "    <tr>\n",
       "      <td>4</td>\n",
       "      <td>orange_to_brown</td>\n",
       "      <td>brown_to_blue</td>\n",
       "      <td>0.957143</td>\n",
       "      <td>0.584428</td>\n",
       "      <td>1.329857</td>\n",
       "      <td>10.032624</td>\n",
       "      <td>0.001000</td>\n",
       "    </tr>\n",
       "    <tr>\n",
       "      <td>5</td>\n",
       "      <td>orange_to_brown</td>\n",
       "      <td>blue_to_green</td>\n",
       "      <td>0.474286</td>\n",
       "      <td>0.101571</td>\n",
       "      <td>0.847000</td>\n",
       "      <td>4.971390</td>\n",
       "      <td>0.005240</td>\n",
       "    </tr>\n",
       "    <tr>\n",
       "      <td>6</td>\n",
       "      <td>orange_to_brown</td>\n",
       "      <td>green_to_white</td>\n",
       "      <td>0.991429</td>\n",
       "      <td>0.618714</td>\n",
       "      <td>1.364143</td>\n",
       "      <td>10.392002</td>\n",
       "      <td>0.001000</td>\n",
       "    </tr>\n",
       "    <tr>\n",
       "      <td>7</td>\n",
       "      <td>brown_to_blue</td>\n",
       "      <td>blue_to_green</td>\n",
       "      <td>0.482857</td>\n",
       "      <td>0.110143</td>\n",
       "      <td>0.855572</td>\n",
       "      <td>5.061234</td>\n",
       "      <td>0.004232</td>\n",
       "    </tr>\n",
       "    <tr>\n",
       "      <td>8</td>\n",
       "      <td>brown_to_blue</td>\n",
       "      <td>green_to_white</td>\n",
       "      <td>0.034286</td>\n",
       "      <td>-0.338429</td>\n",
       "      <td>0.407000</td>\n",
       "      <td>0.359378</td>\n",
       "      <td>0.900000</td>\n",
       "    </tr>\n",
       "    <tr>\n",
       "      <td>9</td>\n",
       "      <td>blue_to_green</td>\n",
       "      <td>green_to_white</td>\n",
       "      <td>0.517143</td>\n",
       "      <td>0.144428</td>\n",
       "      <td>0.889857</td>\n",
       "      <td>5.420612</td>\n",
       "      <td>0.001739</td>\n",
       "    </tr>\n",
       "  </tbody>\n",
       "</table>\n",
       "</div>"
      ],
      "text/plain": [
       "            group1           group2      Diff     Lower     Upper    q-value  \\\n",
       "0  white_to_orange  orange_to_brown  0.114286 -0.258429  0.487000   1.197925   \n",
       "1  white_to_orange    brown_to_blue  1.071429  0.698714  1.444143  11.230549   \n",
       "2  white_to_orange    blue_to_green  0.588571  0.215857  0.961286   6.169315   \n",
       "3  white_to_orange   green_to_white  1.105714  0.733000  1.478429  11.589927   \n",
       "4  orange_to_brown    brown_to_blue  0.957143  0.584428  1.329857  10.032624   \n",
       "5  orange_to_brown    blue_to_green  0.474286  0.101571  0.847000   4.971390   \n",
       "6  orange_to_brown   green_to_white  0.991429  0.618714  1.364143  10.392002   \n",
       "7    brown_to_blue    blue_to_green  0.482857  0.110143  0.855572   5.061234   \n",
       "8    brown_to_blue   green_to_white  0.034286 -0.338429  0.407000   0.359378   \n",
       "9    blue_to_green   green_to_white  0.517143  0.144428  0.889857   5.420612   \n",
       "\n",
       "    p-value  \n",
       "0  0.900000  \n",
       "1  0.001000  \n",
       "2  0.001000  \n",
       "3  0.001000  \n",
       "4  0.001000  \n",
       "5  0.005240  \n",
       "6  0.001000  \n",
       "7  0.004232  \n",
       "8  0.900000  \n",
       "9  0.001739  "
      ]
     },
     "execution_count": 31,
     "metadata": {},
     "output_type": "execute_result"
    }
   ],
   "source": [
    "res.tukey_hsd(df=d_melt, res_var='km_value', xfac_var='Colour_change', anova_model='km_value ~ C(Line) + C(Colour_change) + C(Line):C(Colour_change)')\n",
    "res.tukey_summary"
   ]
  },
  {
   "cell_type": "code",
   "execution_count": 32,
   "metadata": {},
   "outputs": [
    {
     "data": {
      "text/html": [
       "<div>\n",
       "<style scoped>\n",
       "    .dataframe tbody tr th:only-of-type {\n",
       "        vertical-align: middle;\n",
       "    }\n",
       "\n",
       "    .dataframe tbody tr th {\n",
       "        vertical-align: top;\n",
       "    }\n",
       "\n",
       "    .dataframe thead th {\n",
       "        text-align: right;\n",
       "    }\n",
       "</style>\n",
       "<table border=\"1\" class=\"dataframe\">\n",
       "  <thead>\n",
       "    <tr style=\"text-align: right;\">\n",
       "      <th></th>\n",
       "      <th>group1</th>\n",
       "      <th>group2</th>\n",
       "      <th>Diff</th>\n",
       "      <th>Lower</th>\n",
       "      <th>Upper</th>\n",
       "      <th>q-value</th>\n",
       "      <th>p-value</th>\n",
       "    </tr>\n",
       "  </thead>\n",
       "  <tbody>\n",
       "    <tr>\n",
       "      <td>0</td>\n",
       "      <td>(KP_100, white_to_orange)</td>\n",
       "      <td>(KP_100, orange_to_brown)</td>\n",
       "      <td>0.383333</td>\n",
       "      <td>-0.863464</td>\n",
       "      <td>1.630130</td>\n",
       "      <td>1.663627</td>\n",
       "      <td>0.900000</td>\n",
       "    </tr>\n",
       "    <tr>\n",
       "      <td>1</td>\n",
       "      <td>(KP_100, white_to_orange)</td>\n",
       "      <td>(KP_100, brown_to_blue)</td>\n",
       "      <td>1.216667</td>\n",
       "      <td>-0.030130</td>\n",
       "      <td>2.463464</td>\n",
       "      <td>5.280207</td>\n",
       "      <td>0.066800</td>\n",
       "    </tr>\n",
       "    <tr>\n",
       "      <td>2</td>\n",
       "      <td>(KP_100, white_to_orange)</td>\n",
       "      <td>(KP_100, blue_to_green)</td>\n",
       "      <td>0.816667</td>\n",
       "      <td>-0.430130</td>\n",
       "      <td>2.063464</td>\n",
       "      <td>3.544249</td>\n",
       "      <td>0.732017</td>\n",
       "    </tr>\n",
       "    <tr>\n",
       "      <td>3</td>\n",
       "      <td>(KP_100, white_to_orange)</td>\n",
       "      <td>(KP_100, green_to_white)</td>\n",
       "      <td>1.533333</td>\n",
       "      <td>0.286536</td>\n",
       "      <td>2.780130</td>\n",
       "      <td>6.654508</td>\n",
       "      <td>0.002098</td>\n",
       "    </tr>\n",
       "    <tr>\n",
       "      <td>4</td>\n",
       "      <td>(KP_100, white_to_orange)</td>\n",
       "      <td>(KP_101, white_to_orange)</td>\n",
       "      <td>0.750000</td>\n",
       "      <td>-0.496797</td>\n",
       "      <td>1.996797</td>\n",
       "      <td>3.254922</td>\n",
       "      <td>0.864777</td>\n",
       "    </tr>\n",
       "  </tbody>\n",
       "</table>\n",
       "</div>"
      ],
      "text/plain": [
       "                      group1                     group2      Diff     Lower  \\\n",
       "0  (KP_100, white_to_orange)  (KP_100, orange_to_brown)  0.383333 -0.863464   \n",
       "1  (KP_100, white_to_orange)    (KP_100, brown_to_blue)  1.216667 -0.030130   \n",
       "2  (KP_100, white_to_orange)    (KP_100, blue_to_green)  0.816667 -0.430130   \n",
       "3  (KP_100, white_to_orange)   (KP_100, green_to_white)  1.533333  0.286536   \n",
       "4  (KP_100, white_to_orange)  (KP_101, white_to_orange)  0.750000 -0.496797   \n",
       "\n",
       "      Upper   q-value   p-value  \n",
       "0  1.630130  1.663627  0.900000  \n",
       "1  2.463464  5.280207  0.066800  \n",
       "2  2.063464  3.544249  0.732017  \n",
       "3  2.780130  6.654508  0.002098  \n",
       "4  1.996797  3.254922  0.864777  "
      ]
     },
     "execution_count": 32,
     "metadata": {},
     "output_type": "execute_result"
    }
   ],
   "source": [
    "res.tukey_hsd(df=d_melt, res_var='km_value', xfac_var=['Line','Colour_change'], anova_model='km_value ~ C(Line) + C(Colour_change) + C(Line):C(Colour_change)')\n",
    "res.tukey_summary.head()"
   ]
  },
  {
   "cell_type": "markdown",
   "metadata": {},
   "source": [
    "### ANOVA Test assumptions"
   ]
  },
  {
   "cell_type": "code",
   "execution_count": 33,
   "metadata": {},
   "outputs": [],
   "source": [
    "import statsmodels.api as sm\n",
    "import matplotlib.pyplot as plt"
   ]
  },
  {
   "cell_type": "code",
   "execution_count": 35,
   "metadata": {},
   "outputs": [
    {
     "data": {
      "image/png": "[encoded data removed]",
      "text/plain": [
       "<Figure size 432x288 with 1 Axes>"
      ]
     },
     "metadata": {
      "needs_background": "light"
     },
     "output_type": "display_data"
    }
   ],
   "source": [
    "sm.qqplot(res.anova_std_residuals, line='45')\n",
    "plt.xlabel(\"Theoretical Quantiles\")\n",
    "plt.ylabel(\"Standardized Residuals\")\n",
    "plt.show()"
   ]
  },
  {
   "cell_type": "code",
   "execution_count": 36,
   "metadata": {},
   "outputs": [
    {
     "data": {
      "image/png": "[encoded data removed]",
      "text/plain": [
       "<Figure size 432x288 with 1 Axes>"
      ]
     },
     "metadata": {
      "needs_background": "light"
     },
     "output_type": "display_data"
    }
   ],
   "source": [
    "plt.hist(res.anova_model_out.resid, bins='auto', histtype='bar', ec='k') \n",
    "plt.xlabel(\"Residuals\")\n",
    "plt.ylabel('Frequency')\n",
    "plt.show()"
   ]
  },
  {
   "cell_type": "code",
   "execution_count": 37,
   "metadata": {},
   "outputs": [],
   "source": [
    "from bioinfokit.analys import stat"
   ]
  },
  {
   "cell_type": "code",
   "execution_count": 38,
   "metadata": {},
   "outputs": [
    {
     "data": {
      "text/html": [
       "<div>\n",
       "<style scoped>\n",
       "    .dataframe tbody tr th:only-of-type {\n",
       "        vertical-align: middle;\n",
       "    }\n",
       "\n",
       "    .dataframe tbody tr th {\n",
       "        vertical-align: top;\n",
       "    }\n",
       "\n",
       "    .dataframe thead th {\n",
       "        text-align: right;\n",
       "    }\n",
       "</style>\n",
       "<table border=\"1\" class=\"dataframe\">\n",
       "  <thead>\n",
       "    <tr style=\"text-align: right;\">\n",
       "      <th></th>\n",
       "      <th>Parameter</th>\n",
       "      <th>Value</th>\n",
       "    </tr>\n",
       "  </thead>\n",
       "  <tbody>\n",
       "    <tr>\n",
       "      <td>0</td>\n",
       "      <td>Test statistics (W)</td>\n",
       "      <td>0.8448</td>\n",
       "    </tr>\n",
       "    <tr>\n",
       "      <td>1</td>\n",
       "      <td>Degrees of freedom (Df)</td>\n",
       "      <td>29.0000</td>\n",
       "    </tr>\n",
       "    <tr>\n",
       "      <td>2</td>\n",
       "      <td>p value</td>\n",
       "      <td>0.6946</td>\n",
       "    </tr>\n",
       "  </tbody>\n",
       "</table>\n",
       "</div>"
      ],
      "text/plain": [
       "                 Parameter    Value\n",
       "0      Test statistics (W)   0.8448\n",
       "1  Degrees of freedom (Df)  29.0000\n",
       "2                  p value   0.6946"
      ]
     },
     "execution_count": 38,
     "metadata": {},
     "output_type": "execute_result"
    }
   ],
   "source": [
    "res = stat()\n",
    "res.levene(df=d_melt, res_var='km_value', xfac_var=['Line', 'Colour_change'])\n",
    "res.levene_summary"
   ]
  },
  {
   "cell_type": "code",
   "execution_count": null,
   "metadata": {},
   "outputs": [],
   "source": []
  },
  {
   "cell_type": "markdown",
   "metadata": {},
   "source": [
    "Seaborn.pydata.org. 2021. seaborn.boxplot — seaborn 0.11.2 documentation. [online] Available at: <https://seaborn.pydata.org/generated/seaborn.boxplot.html> [Accessed 22 December 2021]."
   ]
  },
  {
   "cell_type": "markdown",
   "metadata": {},
   "source": [
    "Bedre, R., 2021. ANOVA using Python (with examples). [online] Data science blog. Available at: <https://www.reneshbedre.com/blog/anova.html> [Accessed 22 December 2021]."
   ]
  },
  {
   "cell_type": "markdown",
   "metadata": {},
   "source": []
  },
  {
   "cell_type": "code",
   "execution_count": null,
   "metadata": {},
   "outputs": [],
   "source": []
  }
 ],
 "metadata": {
  "kernelspec": {
   "display_name": "Python 3",
   "language": "python",
   "name": "python3"
  },
  "language_info": {
   "codemirror_mode": {
    "name": "ipython",
    "version": 3
   },
   "file_extension": ".py",
   "mimetype": "text/x-python",
   "name": "python",
   "nbconvert_exporter": "python",
   "pygments_lexer": "ipython3",
   "version": "3.7.4"
  }
 },
 "nbformat": 4,
 "nbformat_minor": 4
}
