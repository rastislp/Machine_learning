{
 "cells": [
  {
   "cell_type": "markdown",
   "metadata": {},
   "source": [
    "# Scikit-stats project for Machine learning"
   ]
  },
  {
   "cell_type": "markdown",
   "metadata": {},
   "source": [
    "![logo](https://i2.wp.com/softwareengineeringdaily.com/wp-content/uploads/2016/09/scikit-learn-logo.png?w=566&ssl=1)"
   ]
  },
  {
   "cell_type": "markdown",
   "metadata": {},
   "source": [
    "*Rastislav Petras g00252861@gmit.ie*\n"
   ]
  },
  {
   "cell_type": "markdown",
   "metadata": {},
   "source": [
    "[link to scikit-learn Tutorials](https://scikit-learn.org/stable/tutorial/index.html)"
   ]
  },
  {
   "cell_type": "markdown",
   "metadata": {},
   "source": [
    "# Mathematical sample of testing Hypothesis One-Way Anova"
   ]
  },
  {
   "cell_type": "markdown",
   "metadata": {},
   "source": [
    "Using sets of screenshots from Youtuber for better understanding of mathematical order and flow to achieve testing of this Hypothesis"
   ]
  },
  {
   "cell_type": "markdown",
   "metadata": {},
   "source": [
    "[Youtube link](https://www.youtube.com/watch?v=dUw-Jg4py1c)"
   ]
  },
  {
   "cell_type": "markdown",
   "metadata": {},
   "source": [
    "![Anova](https://github.com/rastislp/Machine_learning/blob/main/Images/anova1.JPG?raw=true)"
   ]
  },
  {
   "cell_type": "markdown",
   "metadata": {},
   "source": [
    "**Step 1.**\n",
    "Define null and alternative Hypothesis"
   ]
  },
  {
   "cell_type": "markdown",
   "metadata": {},
   "source": [
    "![Anova](https://github.com/rastislp/Machine_learning/blob/main/Images/anova2.JPG?raw=true)"
   ]
  },
  {
   "cell_type": "markdown",
   "metadata": {},
   "source": [
    "**Step 2.**\n",
    "Calculate sum of squares between the groups."
   ]
  },
  {
   "cell_type": "markdown",
   "metadata": {},
   "source": [
    "![Anova](https://github.com/rastislp/Machine_learning/blob/main/Images/anova3.JPG?raw=true)"
   ]
  },
  {
   "cell_type": "markdown",
   "metadata": {},
   "source": [
    "**Step 3.**\n",
    "Caculate sum of squares within the groups"
   ]
  },
  {
   "cell_type": "markdown",
   "metadata": {},
   "source": [
    "![Anova](https://github.com/rastislp/Machine_learning/blob/main/Images/anova4.JPG?raw=true)"
   ]
  },
  {
   "cell_type": "markdown",
   "metadata": {},
   "source": [
    "**Step 4.**\n",
    "Calculate sum of squares for Total variance."
   ]
  },
  {
   "cell_type": "markdown",
   "metadata": {},
   "source": [
    "![Anova](https://github.com/rastislp/Machine_learning/blob/main/Images/anova5.JPG?raw=true)"
   ]
  },
  {
   "cell_type": "markdown",
   "metadata": {},
   "source": [
    "**Step 5.**\n",
    "Prepare the Anova table."
   ]
  },
  {
   "cell_type": "markdown",
   "metadata": {},
   "source": [
    "![Anova](https://github.com/rastislp/Machine_learning/blob/main/Images/anova6.JPG?raw=true)"
   ]
  },
  {
   "cell_type": "markdown",
   "metadata": {},
   "source": [
    "F-ratio = 1.5 while F-limit 5% from distribution table = F(2,9)=4.26"
   ]
  },
  {
   "cell_type": "markdown",
   "metadata": {},
   "source": [
    "**Step 5.1.**\n",
    "Crosscheck numerator (2) with Denominator (9)"
   ]
  },
  {
   "cell_type": "markdown",
   "metadata": {},
   "source": [
    "![Anova](https://github.com/rastislp/Machine_learning/blob/main/Images/anova7.JPG?raw=true)"
   ]
  },
  {
   "cell_type": "markdown",
   "metadata": {},
   "source": [
    "**Step 6.**\n",
    "Prepare the Anova table."
   ]
  },
  {
   "cell_type": "markdown",
   "metadata": {},
   "source": [
    "![Anova](https://github.com/rastislp/Machine_learning/blob/main/Images/anova8.JPG?raw=true)"
   ]
  },
  {
   "cell_type": "markdown",
   "metadata": {},
   "source": [
    "F-ratio (1.5) is less than Critical value (4.26), therefore we can conclude that **null Hypothesis is True and cannot be rejected**. It also implies that variety of wheat(seeds) doesnt affect the production of wheat significantly."
   ]
  },
  {
   "cell_type": "markdown",
   "metadata": {},
   "source": [
    "## Lets start with ANOVA "
   ]
  },
  {
   "cell_type": "markdown",
   "metadata": {},
   "source": [
    "Prior writing this paragraph I have watch numerous contents relating to Analysis of Variance. Well explained videos mathematically calculated results whether Null Hypothesis could not be or has to be rejected perhaps Alternative Hypothesis is true. Among wide community of Scientist and Physics there was one that I could easily track how he proceeds with any mathematical or algorithm  problem. Brandon Foltz with pseudo name / YouTube name “Statistic 101” senior learning designer has variety of learning content that is very well explained."
   ]
  },
  {
   "cell_type": "markdown",
   "metadata": {},
   "source": [
    "As a Continuous Improvement Specialist in my new job, I am also undertaking  development course of Lean Six Sigma. Company “Prysmian Group” I work for within my region manufactures data and optical cables. Part of this training is to deliver savings in reduction of insulated scrap via DMAIC (data-driven strategy used to improve processes). Prior defining a problem statement and set a goal I have started drill down in order to collect most accurate data."
   ]
  },
  {
   "cell_type": "markdown",
   "metadata": {},
   "source": [
    "Our plant in Presov, Slovakia during manufacturing process creates in average 30 tonnes of  insulated scrap on monthly basis. There are two manufacturing processes that such a scrap can be made. Core line and Group Twinners. Basically core line process extrudes cooper cable with issolation which 8 of those are then grouped in pairs of 2 and those four pairs twisted again.  "
   ]
  },
  {
   "cell_type": "markdown",
   "metadata": {},
   "source": [
    "As a part of drill down i have defined 3 types of scrap within Core lines and 2 more within Group Twinner. Currently I am in my day 4 of this data collection to quantify amount scrap produced at different type of proceses. I am not exactly sure what would be outcome of this data colection in terms of what type of scrap do we target and define a Problem statement but after a learning Anova last few days I have clear goal to use one type of colected data and analize variance within them. Rejecting null hypothesis would be a baseline for improvment.  "
   ]
  },
  {
   "cell_type": "markdown",
   "metadata": {},
   "source": [
    "As already mentioned one of the type of scrap i am observing is a variance in lenght of cable required to make a change from one colour to another. During 12 hour shift operator manufactures between 5 to 6 sets of cable with 4 white coils of cable that is then paired with 1 coil of blue, brown, green and orange coil. Typically operator starts manufacturing 24 coils of white and than move on 6 orange, 6 blue...  Thats what Ethernet cable looks like.   "
   ]
  },
  {
   "cell_type": "markdown",
   "metadata": {},
   "source": [
    "As we have 8 production lines(Groups of 8 factors) and colour change(columns of 5 factors) is made not always but mainly 5 times during this shift with multiple data colected across multiple shifts(Replicaton-data taken accross 2 shifts and several days)."
   ]
  },
  {
   "cell_type": "markdown",
   "metadata": {},
   "source": [
    "**Sound's familiar?**"
   ]
  },
  {
   "cell_type": "markdown",
   "metadata": {},
   "source": [
    "Yes, It does to me too now. Therefore i am going to use data i have collected over  number of days to perform and display the results of ANOVA using scipy.stats."
   ]
  },
  {
   "cell_type": "markdown",
   "metadata": {},
   "source": [
    "## What Is a 2-Way ANOVA?"
   ]
  },
  {
   "cell_type": "markdown",
   "metadata": {},
   "source": [
    " ANOVA stands for analysis of variance and tests for differences in the effects of independent variables on a dependent variable. A two-way ANOVA test is a statistical test used to determine the effect of two nominal predictor variables on a continuous outcome variable.\n",
    "\n",
    "A two-way ANOVA tests the effect of two independent variables on a dependent variable. A two-way ANOVA test analyzes the effect of the independent variables on the expected outcome along with their relationship to the outcome itself. Random factors would be considered to have no statistical influence on a data set, while systematic factors would be considered to have statistical significance. "
   ]
  },
  {
   "cell_type": "markdown",
   "metadata": {},
   "source": [
    "## Screenshot from my one-pager of LSS project"
   ]
  },
  {
   "cell_type": "markdown",
   "metadata": {},
   "source": [
    "![Anova](https://github.com/rastislp/Machine_learning/blob/main/Images/lss.JPG?raw=true)"
   ]
  },
  {
   "cell_type": "markdown",
   "metadata": {},
   "source": [
    "Approach to this project was that i have started drill down asking for this level of details:"
   ]
  },
  {
   "cell_type": "markdown",
   "metadata": {},
   "source": [
    "1. Production line (KP100,KP300...)\n",
    "2. Diameter of cooper cable before insulation (0.42,0.55...)\n",
    "3. Color change (White to Orange, Orange to Brown...)\n",
    "4. Category change\n",
    "5. startup\n",
    "6. NCR for Breakdown\n",
    "7. NCR for incorrect parameters"
   ]
  },
  {
   "cell_type": "markdown",
   "metadata": {},
   "source": [
    "Drill down form pictured below"
   ]
  },
  {
   "cell_type": "markdown",
   "metadata": {},
   "source": [
    "![Anova](https://github.com/rastislp/Machine_learning/blob/main/Images/drill.JPG?raw=true)"
   ]
  },
  {
   "cell_type": "markdown",
   "metadata": {},
   "source": [
    "Data structure resulting from drill down pictured below."
   ]
  },
  {
   "cell_type": "markdown",
   "metadata": {},
   "source": [
    "![Anova](https://github.com/rastislp/Machine_learning/blob/main/Images/data.JPG?raw=true)"
   ]
  },
  {
   "cell_type": "markdown",
   "metadata": {},
   "source": [
    "Next step towards completing these project is analysing collected data. As you can see from sunburn chart from one pager above, colour change scrap is significant and data strucure are just like one i need for performing 2 way anova analysis. For purpose of this analysis i am going to filter out data from production lines KP302 and KP303 as those werent running and repeat 6 times.\n",
    "\n",
    "As there are 6 and 5 levels for production lines and colour change types, respectively, this is a 6 x 5 factorial design yielding 30 unique combinations for measurement of the response variable."
   ]
  },
  {
   "cell_type": "code",
   "execution_count": 13,
   "metadata": {},
   "outputs": [],
   "source": [
    "import pandas as pd\n",
    "import seaborn as sns"
   ]
  },
  {
   "cell_type": "code",
   "execution_count": 14,
   "metadata": {},
   "outputs": [],
   "source": [
    "\n",
    "d = pd.read_csv(\"Images/CSVdata.csv\")\n"
   ]
  },
  {
   "cell_type": "code",
   "execution_count": 17,
   "metadata": {},
   "outputs": [
    {
     "name": "stdout",
     "output_type": "stream",
     "text": [
      "      Line  white_to_orange  orange_to_brown  brown_to_blue  blue_to_green  \\\n",
      "0   KP_100              1.8              1.7            2.9            2.2   \n",
      "1   KP_100              1.7              1.6            2.5            2.1   \n",
      "2   KP_100              1.8              2.5            2.2            2.6   \n",
      "3   KP_100              1.7              1.7            2.9            2.1   \n",
      "4   KP_100              1.7              1.7            2.1            1.9   \n",
      "5   KP_100              1.7              3.5            5.1            4.4   \n",
      "6   KP_101              2.5              2.5            3.2            2.5   \n",
      "7   KP_101              2.4              2.4            2.7            2.2   \n",
      "8   KP_101              2.5              1.6            2.2            2.0   \n",
      "9   KP_101              2.5              3.0            3.5            3.0   \n",
      "10  KP_101              2.6              2.8            2.7            2.7   \n",
      "11  KP_101              2.4              2.3            2.8            2.3   \n",
      "12  KP_200              1.3              1.5            2.9            1.7   \n",
      "13  KP_200              2.2              1.7            2.2            1.9   \n",
      "14  KP_200              1.6              1.4            2.0            1.8   \n",
      "15  KP_200              1.2              1.8            2.6            1.7   \n",
      "16  KP_200              1.5              1.5            2.5            1.5   \n",
      "17  KP_200              1.5              1.5            2.0            1.8   \n",
      "18  KP_201              1.5              1.6            2.8            4.0   \n",
      "19  KP_201              1.6              1.6            2.7            2.0   \n",
      "20  KP_201              1.5              2.9            2.5            2.0   \n",
      "21  KP_201              1.5              1.5            1.7            1.6   \n",
      "22  KP_201              1.5              1.6            2.5            1.8   \n",
      "23  KP_300              1.9              2.0            4.2            4.0   \n",
      "24  KP_300              1.5              1.5            4.0            3.0   \n",
      "25  KP_300              2.3              1.8            4.6            3.0   \n",
      "26  KP_300              2.1              2.0            3.6            3.0   \n",
      "27  KP_300              2.5              1.8            4.5            3.7   \n",
      "28  KP_300              2.6              2.0            4.5            3.0   \n",
      "29  KP_301              2.0              2.3            2.9            2.4   \n",
      "30  KP_301              2.3              2.3            3.1            2.8   \n",
      "31  KP_301              2.0              1.5            2.8            2.6   \n",
      "32  KP_301              1.9              2.5            2.9            2.4   \n",
      "33  KP_301              1.7              2.6            2.8            2.7   \n",
      "34  KP_301              1.8              2.6            3.2            3.0   \n",
      "\n",
      "    green_to_white  \n",
      "0              3.0  \n",
      "1              2.9  \n",
      "2              2.7  \n",
      "3              3.2  \n",
      "4              2.5  \n",
      "5              5.3  \n",
      "6              3.3  \n",
      "7              2.6  \n",
      "8              2.1  \n",
      "9              3.5  \n",
      "10             3.0  \n",
      "11             2.7  \n",
      "12             2.4  \n",
      "13             5.0  \n",
      "14             2.3  \n",
      "15             2.7  \n",
      "16             2.0  \n",
      "17             2.2  \n",
      "18             2.6  \n",
      "19             2.2  \n",
      "20             2.2  \n",
      "21             2.2  \n",
      "22             2.2  \n",
      "23             3.0  \n",
      "24             4.0  \n",
      "25             3.5  \n",
      "26             3.0  \n",
      "27             3.5  \n",
      "28             4.5  \n",
      "29             2.8  \n",
      "30             3.5  \n",
      "31             2.5  \n",
      "32             2.8  \n",
      "33             2.8  \n",
      "34             4.8  \n"
     ]
    }
   ],
   "source": [
    "print(d)"
   ]
  },
  {
   "cell_type": "code",
   "execution_count": 18,
   "metadata": {},
   "outputs": [],
   "source": [
    "d_melt = pd.melt(d, id_vars=['Line'], value_vars=['white_to_orange', 'orange_to_brown', 'brown_to_blue', 'blue_to_green', 'green_to_white' ])\n",
    "\n"
   ]
  },
  {
   "cell_type": "code",
   "execution_count": 19,
   "metadata": {},
   "outputs": [],
   "source": [
    "d_melt.columns = ['Line', 'Colour_change', 'km_value']"
   ]
  },
  {
   "cell_type": "code",
   "execution_count": 32,
   "metadata": {},
   "outputs": [
    {
     "data": {
      "text/html": [
       "<div>\n",
       "<style scoped>\n",
       "    .dataframe tbody tr th:only-of-type {\n",
       "        vertical-align: middle;\n",
       "    }\n",
       "\n",
       "    .dataframe tbody tr th {\n",
       "        vertical-align: top;\n",
       "    }\n",
       "\n",
       "    .dataframe thead th {\n",
       "        text-align: right;\n",
       "    }\n",
       "</style>\n",
       "<table border=\"1\" class=\"dataframe\">\n",
       "  <thead>\n",
       "    <tr style=\"text-align: right;\">\n",
       "      <th></th>\n",
       "      <th>Line</th>\n",
       "      <th>Colour_change</th>\n",
       "      <th>km_value</th>\n",
       "    </tr>\n",
       "  </thead>\n",
       "  <tbody>\n",
       "    <tr>\n",
       "      <td>0</td>\n",
       "      <td>KP_100</td>\n",
       "      <td>white_to_orange</td>\n",
       "      <td>1.8</td>\n",
       "    </tr>\n",
       "    <tr>\n",
       "      <td>1</td>\n",
       "      <td>KP_100</td>\n",
       "      <td>white_to_orange</td>\n",
       "      <td>1.7</td>\n",
       "    </tr>\n",
       "    <tr>\n",
       "      <td>2</td>\n",
       "      <td>KP_100</td>\n",
       "      <td>white_to_orange</td>\n",
       "      <td>1.8</td>\n",
       "    </tr>\n",
       "    <tr>\n",
       "      <td>3</td>\n",
       "      <td>KP_100</td>\n",
       "      <td>white_to_orange</td>\n",
       "      <td>1.7</td>\n",
       "    </tr>\n",
       "    <tr>\n",
       "      <td>4</td>\n",
       "      <td>KP_100</td>\n",
       "      <td>white_to_orange</td>\n",
       "      <td>1.7</td>\n",
       "    </tr>\n",
       "  </tbody>\n",
       "</table>\n",
       "</div>"
      ],
      "text/plain": [
       "     Line    Colour_change  km_value\n",
       "0  KP_100  white_to_orange       1.8\n",
       "1  KP_100  white_to_orange       1.7\n",
       "2  KP_100  white_to_orange       1.8\n",
       "3  KP_100  white_to_orange       1.7\n",
       "4  KP_100  white_to_orange       1.7"
      ]
     },
     "execution_count": 32,
     "metadata": {},
     "output_type": "execute_result"
    }
   ],
   "source": [
    "d_melt.head()"
   ]
  },
  {
   "cell_type": "code",
   "execution_count": 34,
   "metadata": {},
   "outputs": [
    {
     "data": {
      "text/plain": [
       "<matplotlib.axes._subplots.AxesSubplot at 0x21ec174d4c8>"
      ]
     },
     "execution_count": 34,
     "metadata": {},
     "output_type": "execute_result"
    },
    {
     "data": {
      "image/png": "[encoded data removed]",
      "text/plain": [
       "<Figure size 432x288 with 1 Axes>"
      ]
     },
     "metadata": {
      "needs_background": "light"
     },
     "output_type": "display_data"
    }
   ],
   "source": [
    "sns.boxplot(x=\"Line\", y=\"km_value\", hue=\"Colour_change\", data=d_melt, palette=\"Set1\")"
   ]
  },
  {
   "cell_type": "code",
   "execution_count": null,
   "metadata": {},
   "outputs": [],
   "source": []
  },
  {
   "cell_type": "code",
   "execution_count": null,
   "metadata": {},
   "outputs": [],
   "source": []
  },
  {
   "cell_type": "code",
   "execution_count": null,
   "metadata": {},
   "outputs": [],
   "source": []
  },
  {
   "cell_type": "code",
   "execution_count": null,
   "metadata": {},
   "outputs": [],
   "source": []
  },
  {
   "cell_type": "code",
   "execution_count": null,
   "metadata": {},
   "outputs": [],
   "source": []
  },
  {
   "cell_type": "markdown",
   "metadata": {},
   "source": [
    "Seaborn.pydata.org. 2021. seaborn.boxplot — seaborn 0.11.2 documentation. [online] Available at: <https://seaborn.pydata.org/generated/seaborn.boxplot.html> [Accessed 22 December 2021]."
   ]
  },
  {
   "cell_type": "code",
   "execution_count": null,
   "metadata": {},
   "outputs": [],
   "source": []
  }
 ],
 "metadata": {
  "kernelspec": {
   "display_name": "Python 3",
   "language": "python",
   "name": "python3"
  },
  "language_info": {
   "codemirror_mode": {
    "name": "ipython",
    "version": 3
   },
   "file_extension": ".py",
   "mimetype": "text/x-python",
   "name": "python",
   "nbconvert_exporter": "python",
   "pygments_lexer": "ipython3",
   "version": "3.7.4"
  }
 },
 "nbformat": 4,
 "nbformat_minor": 4
}
